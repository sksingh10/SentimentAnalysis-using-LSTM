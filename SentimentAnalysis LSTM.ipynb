{
 "cells": [
  {
   "cell_type": "markdown",
   "id": "97f81be6",
   "metadata": {},
   "source": [
    "# Sentiment Analysis\n",
    "\n",
    "\n",
    "\n",
    "The folder contains:\n",
    "\n",
    "- `train.csv`\n",
    "- `test.csv`\n",
    "\n",
    "In this problem, we look at predicting whether a tweet has positive or negative sentiment.\n"
   ]
  },
  {
   "cell_type": "markdown",
   "id": "59cc0db0",
   "metadata": {},
   "source": [
    "**(a) ** We first read in the tweet data. Read the data present in `train.csv` file.\n",
    "\n",
    "1. Keep only the sentiment and sentiment text in the data - the first and the last coumn\n",
    "2. Print the number of positive and negative sentiment labels\n",
    "\n",
    "Note: If you are using `open()`, you may have to set `encoding='iso8859'`."
   ]
  },
  {
   "cell_type": "code",
   "execution_count": 64,
   "id": "c74a5be7",
   "metadata": {},
   "outputs": [],
   "source": [
    "# your code here\n",
    "import csv\n",
    "sentiment_text=[]\n",
    "sentiment=[]\n",
    "train_dataset=[]\n",
    "\n",
    "with open('./data/train.csv','r',encoding='iso8859') as csv_file:\n",
    "    csv_reader=csv.reader(csv_file,delimiter=',')\n",
    "    lineCount=0\n",
    "    for row in csv_reader:\n",
    "        \n",
    "        if not(lineCount==0):\n",
    "            #print(row)\n",
    "            #text=row[len(row)-1]\n",
    "            #print(text)\n",
    "            train_dataset.append([int(row[0]),row[len(row)-1]])\n",
    "            sentiment_text.append(row[len(row)-1])\n",
    "            sentiment.append(int(row[0]))\n",
    "            #print(row[len(row)-1])\n",
    "        lineCount+=1"
   ]
  },
  {
   "cell_type": "code",
   "execution_count": 65,
   "id": "cf8dc053",
   "metadata": {},
   "outputs": [
    {
     "name": "stdout",
     "output_type": "stream",
     "text": [
      "Total Sentiments in dataset:  1599999\n",
      "Negative Sentiment Labels Count 799999\n",
      "Positive Sentiment Labels Count 800000\n"
     ]
    }
   ],
   "source": [
    "import numpy as np\n",
    "\n",
    "print('Total Sentiments in dataset: ',len(sentiment))\n",
    "\n",
    "sentiment=np.array(sentiment)\n",
    "sentiment_text=np.array(sentiment_text)\n",
    "negative_sentiment_count=np.count_nonzero(sentiment==0)\n",
    "print('Negative Sentiment Labels Count',negative_sentiment_count)\n",
    "\n",
    "positive_sentiment_count=np.count_nonzero(sentiment==1)\n",
    "print('Positive Sentiment Labels Count',positive_sentiment_count)"
   ]
  },
  {
   "cell_type": "code",
   "execution_count": 66,
   "id": "a2f101ac",
   "metadata": {},
   "outputs": [],
   "source": [
    "import random\n",
    "import spacy\n",
    "nlp = spacy.load('en_core_web_sm')\n",
    "\n",
    "random_train_dataset=random.sample(train_dataset,30000)\n",
    "#random_train_dataset=random.sample(train_dataset,10000)\n",
    "random_train_dataset_text=np.array([data[1] for data in random_train_dataset])\n",
    "\n",
    "random_train_dataset_labels=np.array([data[0] for data in random_train_dataset])\n"
   ]
  },
  {
   "cell_type": "code",
   "execution_count": 67,
   "id": "8293091c",
   "metadata": {},
   "outputs": [
    {
     "name": "stdout",
     "output_type": "stream",
     "text": [
      "Sample Dataset with Positive Sentiment Labels Count:  14991\n",
      "Sample Dataset with Negative Sentiment Labels Count:  15009\n"
     ]
    }
   ],
   "source": [
    "#for data in random_train_dataset:\n",
    "pos_count=np.count_nonzero(random_train_dataset_labels==0)\n",
    "neg_count=np.count_nonzero(random_train_dataset_labels==1)\n",
    "\n",
    "print('Sample Dataset with Positive Sentiment Labels Count: ',pos_count)\n",
    "print('Sample Dataset with Negative Sentiment Labels Count: ',neg_count)"
   ]
  },
  {
   "cell_type": "markdown",
   "id": "2201f560",
   "metadata": {},
   "source": [
    "**(b) ** Modify the LSTM demo code from lecture to work with this Twitter dataset. Play with the learning rate and batch size so that the training gives reasonable increases in training and validation accuracies as we progress through epochs (leave the number of epochs at 10). Also feel free to try different neural net architectures (although you do not have to). What test accuracy are you able to achieve?"
   ]
  },
  {
   "cell_type": "code",
   "execution_count": 68,
   "id": "d2d35421",
   "metadata": {},
   "outputs": [],
   "source": [
    "import torch\n",
    "import torch.nn as nn\n",
    "from torchsummaryX import summary\n",
    "\n",
    "import os\n",
    "os.environ['KMP_DUPLICATE_LIB_OK'] = 'True'\n",
    "\n",
    "from UDA_pytorch_utils import UDA_LSTMforSequential, UDA_pytorch_classifier_fit, \\\n",
    "    UDA_plot_train_val_accuracy_vs_epoch, UDA_pytorch_classifier_predict, \\\n",
    "    UDA_compute_accuracy"
   ]
  },
  {
   "cell_type": "code",
   "execution_count": 69,
   "id": "a21b1d35",
   "metadata": {},
   "outputs": [],
   "source": [
    "# your code here\n",
    "proper_train_size = int(len(random_train_dataset) * 0.8)\n",
    "val_size = len(random_train_dataset) - proper_train_size"
   ]
  },
  {
   "cell_type": "code",
   "execution_count": 70,
   "id": "dedc4d9f",
   "metadata": {},
   "outputs": [],
   "source": [
    "proper_train_dataset, val_dataset = torch.utils.data.random_split(random_train_dataset,\n",
    "                                                                  [proper_train_size,\n",
    "                                                                   val_size])\n"
   ]
  },
  {
   "cell_type": "code",
   "execution_count": 71,
   "id": "55761d18",
   "metadata": {},
   "outputs": [],
   "source": [
    "from torchnlp.encoders.text import SpacyEncoder\n"
   ]
  },
  {
   "cell_type": "code",
   "execution_count": 72,
   "id": "f2d8bf42",
   "metadata": {},
   "outputs": [],
   "source": [
    "encoder = SpacyEncoder([data[1] for data in proper_train_dataset])"
   ]
  },
  {
   "cell_type": "code",
   "execution_count": 73,
   "id": "50a624f8",
   "metadata": {},
   "outputs": [],
   "source": [
    "proper_train_encoded=[encoder.encode(data[1]) for data in proper_train_dataset]"
   ]
  },
  {
   "cell_type": "code",
   "execution_count": 74,
   "id": "d61a0ab5",
   "metadata": {},
   "outputs": [],
   "source": [
    "proper_train_labels = torch.tensor([data[0]\n",
    "                                    for data in proper_train_dataset])"
   ]
  },
  {
   "cell_type": "code",
   "execution_count": 75,
   "id": "c152ee91",
   "metadata": {},
   "outputs": [],
   "source": [
    "val_encoded = [encoder.encode(data[1]) for data in val_dataset]"
   ]
  },
  {
   "cell_type": "code",
   "execution_count": 76,
   "id": "6c47f236",
   "metadata": {},
   "outputs": [],
   "source": [
    "val_labels = torch.tensor([data[0] for data in val_dataset])"
   ]
  },
  {
   "cell_type": "code",
   "execution_count": 77,
   "id": "c07bdd6b",
   "metadata": {},
   "outputs": [],
   "source": [
    "proper_train_dataset_encoded = list(zip(proper_train_encoded, proper_train_labels))\n",
    "val_dataset_encoded = list(zip(val_encoded, val_labels))\n"
   ]
  },
  {
   "cell_type": "code",
   "execution_count": 78,
   "id": "56f7436d",
   "metadata": {},
   "outputs": [],
   "source": [
    "from torchnlp.word_to_vector import GloVe\n",
    "pretrained_embedding = GloVe(name='6B', dim=100)"
   ]
  },
  {
   "cell_type": "code",
   "execution_count": 79,
   "id": "c7bb669d",
   "metadata": {},
   "outputs": [],
   "source": [
    "embedding_weights = torch.Tensor(encoder.vocab_size, pretrained_embedding.dim)\n",
    "for i, token in enumerate(encoder.vocab):\n",
    "    embedding_weights[i] = pretrained_embedding[token]"
   ]
  },
  {
   "cell_type": "code",
   "execution_count": 80,
   "id": "980c1350",
   "metadata": {},
   "outputs": [],
   "source": [
    "simple_lstm_model = nn.Sequential(nn.Embedding.from_pretrained(embedding_weights),\n",
    "                                  UDA_LSTMforSequential(100, 64),\n",
    "                                  nn.Linear(64, 2))"
   ]
  },
  {
   "cell_type": "code",
   "execution_count": 81,
   "id": "4457be87",
   "metadata": {},
   "outputs": [
    {
     "name": "stdout",
     "output_type": "stream",
     "text": [
      "=============================================================\n",
      "                Kernel Shape Output Shape   Params Mult-Adds\n",
      "Layer                                                       \n",
      "0_0             [100, 42768]  [1, 5, 100]        -         -\n",
      "1_1.LSTM_model             -   [1, 5, 64]  42.496k   41.984k\n",
      "2_2                  [64, 2]       [1, 2]    130.0     128.0\n",
      "-------------------------------------------------------------\n",
      "                         Totals\n",
      "Total params          4.319426M\n",
      "Trainable params        42.626k\n",
      "Non-trainable params    4.2768M\n",
      "Mult-Adds               42.112k\n",
      "=============================================================\n"
     ]
    },
    {
     "data": {
      "text/html": [
       "<div>\n",
       "<style scoped>\n",
       "    .dataframe tbody tr th:only-of-type {\n",
       "        vertical-align: middle;\n",
       "    }\n",
       "\n",
       "    .dataframe tbody tr th {\n",
       "        vertical-align: top;\n",
       "    }\n",
       "\n",
       "    .dataframe thead th {\n",
       "        text-align: right;\n",
       "    }\n",
       "</style>\n",
       "<table border=\"1\" class=\"dataframe\">\n",
       "  <thead>\n",
       "    <tr style=\"text-align: right;\">\n",
       "      <th></th>\n",
       "      <th>Kernel Shape</th>\n",
       "      <th>Output Shape</th>\n",
       "      <th>Params</th>\n",
       "      <th>Mult-Adds</th>\n",
       "    </tr>\n",
       "    <tr>\n",
       "      <th>Layer</th>\n",
       "      <th></th>\n",
       "      <th></th>\n",
       "      <th></th>\n",
       "      <th></th>\n",
       "    </tr>\n",
       "  </thead>\n",
       "  <tbody>\n",
       "    <tr>\n",
       "      <th>0_0</th>\n",
       "      <td>[100, 42768]</td>\n",
       "      <td>[1, 5, 100]</td>\n",
       "      <td>NaN</td>\n",
       "      <td>NaN</td>\n",
       "    </tr>\n",
       "    <tr>\n",
       "      <th>1_1.LSTM_model</th>\n",
       "      <td>-</td>\n",
       "      <td>[1, 5, 64]</td>\n",
       "      <td>42496.0</td>\n",
       "      <td>41984.0</td>\n",
       "    </tr>\n",
       "    <tr>\n",
       "      <th>2_2</th>\n",
       "      <td>[64, 2]</td>\n",
       "      <td>[1, 2]</td>\n",
       "      <td>130.0</td>\n",
       "      <td>128.0</td>\n",
       "    </tr>\n",
       "  </tbody>\n",
       "</table>\n",
       "</div>"
      ],
      "text/plain": [
       "                Kernel Shape Output Shape   Params  Mult-Adds\n",
       "Layer                                                        \n",
       "0_0             [100, 42768]  [1, 5, 100]      NaN        NaN\n",
       "1_1.LSTM_model             -   [1, 5, 64]  42496.0    41984.0\n",
       "2_2                  [64, 2]       [1, 2]    130.0      128.0"
      ]
     },
     "execution_count": 81,
     "metadata": {},
     "output_type": "execute_result"
    }
   ],
   "source": [
    "summary(simple_lstm_model, torch.zeros((1, 5), dtype=torch.long))"
   ]
  },
  {
   "cell_type": "code",
   "execution_count": 82,
   "id": "861279b4",
   "metadata": {},
   "outputs": [
    {
     "name": "stdout",
     "output_type": "stream",
     "text": [
      "Epoch 1 [==================================================] 24000/24000\n",
      "  Train accuracy: 0.7145\n",
      "  Validation accuracy: 0.7073\n",
      "Epoch 2 [==================================================] 24000/24000\n",
      "  Train accuracy: 0.6990\n",
      "  Validation accuracy: 0.6822\n",
      "Epoch 3 [==================================================] 24000/24000\n",
      "  Train accuracy: 0.7275\n",
      "  Validation accuracy: 0.7107\n",
      "Epoch 4 [==================================================] 24000/24000\n",
      "  Train accuracy: 0.7277\n",
      "  Validation accuracy: 0.7062\n",
      "Epoch 5 [==================================================] 24000/24000\n",
      "  Train accuracy: 0.7253\n",
      "  Validation accuracy: 0.7025\n",
      "Epoch 6 [==================================================] 24000/24000\n",
      "  Train accuracy: 0.7382\n",
      "  Validation accuracy: 0.7187\n",
      "Epoch 7 [==================================================] 24000/24000\n",
      "  Train accuracy: 0.7358\n",
      "  Validation accuracy: 0.7107\n",
      "Epoch 8 [==================================================] 24000/24000\n",
      "  Train accuracy: 0.7217\n",
      "  Validation accuracy: 0.6965\n",
      "Epoch 9 [==================================================] 24000/24000\n",
      "  Train accuracy: 0.7452\n",
      "  Validation accuracy: 0.7093\n",
      "Epoch 10 [==================================================] 24000/24000\n",
      "  Train accuracy: 0.7336\n",
      "  Validation accuracy: 0.7137\n"
     ]
    }
   ],
   "source": [
    "num_epochs = 10  # during optimization, how many times we look at training data\n",
    "\n",
    "batch_size = 128  # during optimization, how many training data to use at each step\n",
    "learning_rate = 0.05  # during optimization, how much we nudge our solution at each step\n",
    "\n",
    "train_accuracies, val_accuracies = \\\n",
    "    UDA_pytorch_classifier_fit(simple_lstm_model,\n",
    "                               torch.optim.Adam(simple_lstm_model.parameters(),\n",
    "                                                lr=learning_rate),\n",
    "                               nn.CrossEntropyLoss(),  # includes softmax\n",
    "                               proper_train_dataset_encoded, val_dataset_encoded,\n",
    "                               num_epochs, batch_size,\n",
    "                               sequence=True)\n",
    "\n"
   ]
  },
  {
   "cell_type": "code",
   "execution_count": 83,
   "id": "02feee43",
   "metadata": {},
   "outputs": [
    {
     "data": {
      "image/png": "[encoded data removed]",
      "text/plain": [
       "<Figure size 432x288 with 1 Axes>"
      ]
     },
     "metadata": {
      "needs_background": "light"
     },
     "output_type": "display_data"
    }
   ],
   "source": [
    "UDA_plot_train_val_accuracy_vs_epoch(train_accuracies, val_accuracies)"
   ]
  },
  {
   "cell_type": "markdown",
   "id": "7ae80909",
   "metadata": {},
   "source": [
    "LSTM Testing"
   ]
  },
  {
   "cell_type": "code",
   "execution_count": 84,
   "id": "dbd8eaa0",
   "metadata": {},
   "outputs": [],
   "source": [
    "import csv\n",
    "test_sentiment_text=[]\n",
    "test_sentiment=[]\n",
    "test_dataset=[]\n",
    "\n",
    "with open('./data/test.csv','r',encoding='iso8859') as csv_file:\n",
    "    csv_reader=csv.reader(csv_file,delimiter=',')\n",
    "    lineCount=0\n",
    "    for row in csv_reader:\n",
    "        \n",
    "        if not(lineCount==0):\n",
    "            #print(row)\n",
    "            test_dataset.append([int(row[0]),row[len(row)-1]])\n",
    "            test_sentiment_text.append(row[len(row)-1])\n",
    "            test_sentiment.append(int(row[0]))\n",
    "            #print(row[len(row)-1])\n",
    "        lineCount+=1"
   ]
  },
  {
   "cell_type": "code",
   "execution_count": 85,
   "id": "f54a4bb8",
   "metadata": {},
   "outputs": [],
   "source": [
    "test_encoded = [encoder.encode(data[1]) for data in test_dataset]"
   ]
  },
  {
   "cell_type": "code",
   "execution_count": 86,
   "id": "dd1cdd73",
   "metadata": {},
   "outputs": [],
   "source": [
    "test_labels = torch.tensor([data[0] for data in test_dataset])"
   ]
  },
  {
   "cell_type": "code",
   "execution_count": 87,
   "id": "267e5df0",
   "metadata": {},
   "outputs": [],
   "source": [
    "predicted_test_labels = UDA_pytorch_classifier_predict(simple_lstm_model,\n",
    "                                                       test_encoded,\n",
    "                                                       sequence=True)"
   ]
  },
  {
   "cell_type": "code",
   "execution_count": 88,
   "id": "a7a53bed",
   "metadata": {},
   "outputs": [
    {
     "name": "stdout",
     "output_type": "stream",
     "text": [
      "LSTM Test accuracy: 0.5975855130784709\n"
     ]
    }
   ],
   "source": [
    "print('LSTM Test accuracy:', UDA_compute_accuracy(predicted_test_labels, test_labels))"
   ]
  },
  {
   "cell_type": "markdown",
   "id": "3987de74",
   "metadata": {},
   "source": [
    "**(c) ** How well does an LSTM compare with using a classical classifier? To investigate this question, let's try training a random forest for sentiment analysis. Your code from part **(b)** should involve coming up with encoded representations of text, i.e., representing a tweet using a sequence of word indices. Use this to come up with a term frequency representation for each tweet. Feel free to remove stop words and/or apply TF-IDF weighting, and then feed the resulting feature vector representations for tweets to a random forest classifier. You can use cross-validation to select hyperparameters. Try to make the random forest classifier perform as well as possible (it is good practice in real-world applications to try to make baselines as good as possible rather than intentionally using a baseline with lousy hyperparameter choices; in particular, it is *bad* practice to tune hyperparameters carefully only on a method you're proposing while not tuning hyperparameters on baselines!). What test set accuracy are you able to achieve with the random forest?"
   ]
  },
  {
   "cell_type": "code",
   "execution_count": 89,
   "id": "6f48f3ba",
   "metadata": {},
   "outputs": [],
   "source": [
    "\n",
    "from sklearn.feature_extraction.text import TfidfVectorizer\n",
    "\n",
    "tf_vectorizer = TfidfVectorizer(max_df=0.95,\n",
    "                                min_df=20,\n",
    "                                stop_words='english')\n",
    "\n",
    "tf=tf_vectorizer.fit_transform(random_train_dataset_text)\n",
    "#tf_vectorizer.fit(random_train_dataset_text)\n",
    "proper_train_dataset_text=np.array([data[1] for data in proper_train_dataset])\n",
    "proper_train_labels=np.array([data[0] for data in proper_train_dataset])\n",
    "proper_train_features=tf_vectorizer.transform(proper_train_dataset_text)\n",
    "\n",
    "val_dataset_text=np.array([data[1] for data in val_dataset])\n",
    "val_labels=np.array([data[0] for data in val_dataset])\n",
    "val_features=tf_vectorizer.transform(val_dataset_text)                                   \n",
    "\n",
    "tf=tf.toarray()"
   ]
  },
  {
   "cell_type": "code",
   "execution_count": 90,
   "id": "9d8e76a5",
   "metadata": {},
   "outputs": [
    {
     "name": "stdout",
     "output_type": "stream",
     "text": [
      "(30000, 1411)\n",
      "1411\n"
     ]
    }
   ],
   "source": [
    "print(tf.shape)"
   ]
  },
  {
   "cell_type": "code",
   "execution_count": 91,
   "id": "510e5651",
   "metadata": {},
   "outputs": [
    {
     "name": "stdout",
     "output_type": "stream",
     "text": [
      "Hyperparameter: (10, 1) Cross Val Score : 0.718\n",
      "Hyperparameter: (10, 2) Cross Val Score : 0.7233333333333334\n",
      "Hyperparameter: (10, 4) Cross Val Score : 0.727\n",
      "Hyperparameter: (10, 8) Cross Val Score : 0.7223333333333333\n",
      "Hyperparameter: (10, 16) Cross Val Score : 0.7131666666666667\n",
      "Hyperparameter: (38, 1) Cross Val Score : 0.7138333333333333\n",
      "Hyperparameter: (38, 2) Cross Val Score : 0.7136666666666667\n",
      "Hyperparameter: (38, 4) Cross Val Score : 0.7166666666666667\n",
      "Hyperparameter: (38, 8) Cross Val Score : 0.7126666666666667\n",
      "Hyperparameter: (38, 16) Cross Val Score : 0.7055\n",
      "Hyperparameter: (152, 1) Cross Val Score : 0.7065\n",
      "Hyperparameter: (152, 2) Cross Val Score : 0.7125\n",
      "Hyperparameter: (152, 4) Cross Val Score : 0.7146666666666667\n",
      "Hyperparameter: (152, 8) Cross Val Score : 0.7086666666666667\n",
      "Hyperparameter: (152, 16) Cross Val Score : 0.6973333333333334\n",
      "Best hyperparameter setting: (10, 4)\n"
     ]
    }
   ],
   "source": [
    "from sklearn.model_selection import train_test_split\n",
    "from sklearn.ensemble import RandomForestClassifier\n",
    "from sklearn.metrics import f1_score\n",
    "import numpy as np\n",
    "\n",
    "hyperparameter_settings = [(max_features, min_samples_leaf)\n",
    "                           for max_features in [int(np.ceil(np.sqrt(tf.shape[1]) / 4)),\n",
    "                                                int(np.ceil(np.sqrt(tf.shape[1]))),\n",
    "                                                int(np.ceil(np.sqrt(tf.shape[1]))*4)]\n",
    "                           for min_samples_leaf in [1, 2, 4, 8, 16]]  # fill this with hyperparameter settings that you want to try\n",
    "\n",
    "best_hyperparam_setting = None\n",
    "best_cross_val_error = np.inf  # assumes that a lower error is better\n",
    "for hyperparam_setting in hyperparameter_settings:\n",
    "    # your code to train and score the training data here\n",
    "    max_features, min_samples_leaf = hyperparam_setting\n",
    "    rf_classifier = RandomForestClassifier(max_features=max_features,\n",
    "                                            min_samples_leaf=min_samples_leaf,\n",
    "                                            random_state=0,n_jobs=-1)\n",
    "    rf_classifier.fit(proper_train_features, proper_train_labels)\n",
    "    predicted_val_labels = rf_classifier.predict(val_features)\n",
    "        \n",
    "    error=np.mean(predicted_val_labels != val_labels)\n",
    "    cross_val_error = error\n",
    "    print('Hyperparameter:', hyperparam_setting, 'Cross Val Score :', (1-cross_val_error))\n",
    "    if cross_val_error < best_cross_val_error:  # assumes that a lower error is better\n",
    "        best_cross_val_error = cross_val_error\n",
    "        best_hyperparam_setting = hyperparam_setting\n",
    "\n",
    "print('Best hyperparameter setting:', best_hyperparam_setting)"
   ]
  },
  {
   "cell_type": "markdown",
   "id": "27433480",
   "metadata": {},
   "source": [
    "Random Forest Testing"
   ]
  },
  {
   "cell_type": "code",
   "execution_count": 92,
   "id": "cbab121e",
   "metadata": {},
   "outputs": [
    {
     "name": "stdout",
     "output_type": "stream",
     "text": [
      "(497, 1411)\n"
     ]
    }
   ],
   "source": [
    "tf_test = tf_vectorizer.transform(test_sentiment_text)\n",
    "tf_test=tf_test.toarray()\n",
    "print(tf_test.shape)"
   ]
  },
  {
   "cell_type": "code",
   "execution_count": 93,
   "id": "3beb23b5",
   "metadata": {},
   "outputs": [],
   "source": [
    "max_features,min_samples_leaf=best_hyperparam_setting\n",
    "rf_classifier = RandomForestClassifier(max_features=max_features,\n",
    "                                            min_samples_leaf=min_samples_leaf,\n",
    "                                            random_state=0,n_jobs=-1)\n",
    "rf_classifier.fit(tf,random_train_dataset_labels)\n",
    "test_tweet_prediction_label=rf_classifier.predict(tf_test)\n",
    "test_set_error=np.mean(test_tweet_prediction_label!=test_sentiment)\n"
   ]
  },
  {
   "cell_type": "code",
   "execution_count": 94,
   "id": "1a941dce",
   "metadata": {},
   "outputs": [
    {
     "name": "stdout",
     "output_type": "stream",
     "text": [
      "Random Forest Test Accuracy:  0.5835010060362174\n"
     ]
    }
   ],
   "source": [
    "print(\"Random Forest Test Accuracy: \",(1-test_set_error))"
   ]
  },
  {
   "cell_type": "code",
   "execution_count": null,
   "id": "81becc1c",
   "metadata": {},
   "outputs": [],
   "source": []
  }
 ],
 "metadata": {
  "kernelspec": {
   "display_name": "Python 3",
   "language": "python",
   "name": "python3"
  },
  "language_info": {
   "codemirror_mode": {
    "name": "ipython",
    "version": 3
   },
   "file_extension": ".py",
   "mimetype": "text/x-python",
   "name": "python",
   "nbconvert_exporter": "python",
   "pygments_lexer": "ipython3",
   "version": "3.8.8"
  }
 },
 "nbformat": 4,
 "nbformat_minor": 5
}
